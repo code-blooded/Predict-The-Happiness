{
 "cells": [
  {
   "cell_type": "code",
   "execution_count": 1,
   "metadata": {
    "collapsed": true
   },
   "outputs": [],
   "source": [
    "from nltk import *\n",
    "from collections import defaultdict\n",
    "import string\n",
    "import re,sys,pickle,math\n",
    "import numpy as np\n",
    "import pandas as pd\n",
    "from nltk.corpus import wordnet\n",
    "import heapq\n",
    "import time"
   ]
  },
  {
   "cell_type": "code",
   "execution_count": 2,
   "metadata": {
    "collapsed": false
   },
   "outputs": [
    {
     "data": {
      "text/html": [
       "<div>\n",
       "<table border=\"1\" class=\"dataframe\">\n",
       "  <thead>\n",
       "    <tr style=\"text-align: right;\">\n",
       "      <th></th>\n",
       "      <th>User_ID</th>\n",
       "      <th>Description</th>\n",
       "      <th>Browser_Used</th>\n",
       "      <th>Device_Used</th>\n",
       "    </tr>\n",
       "  </thead>\n",
       "  <tbody>\n",
       "    <tr>\n",
       "      <th>0</th>\n",
       "      <td>id80132</td>\n",
       "      <td>Looking for a motel in close proximity to TV t...</td>\n",
       "      <td>Firefox</td>\n",
       "      <td>Mobile</td>\n",
       "    </tr>\n",
       "    <tr>\n",
       "      <th>1</th>\n",
       "      <td>id80133</td>\n",
       "      <td>Walking distance to Madison Square Garden and ...</td>\n",
       "      <td>InternetExplorer</td>\n",
       "      <td>Desktop</td>\n",
       "    </tr>\n",
       "    <tr>\n",
       "      <th>2</th>\n",
       "      <td>id80134</td>\n",
       "      <td>Visited Seattle on business. Spent - nights in...</td>\n",
       "      <td>IE</td>\n",
       "      <td>Tablet</td>\n",
       "    </tr>\n",
       "    <tr>\n",
       "      <th>3</th>\n",
       "      <td>id80135</td>\n",
       "      <td>This hotel location is excellent and the rooms...</td>\n",
       "      <td>Edge</td>\n",
       "      <td>Mobile</td>\n",
       "    </tr>\n",
       "    <tr>\n",
       "      <th>4</th>\n",
       "      <td>id80136</td>\n",
       "      <td>This hotel is awesome I love the service Antho...</td>\n",
       "      <td>Mozilla</td>\n",
       "      <td>Mobile</td>\n",
       "    </tr>\n",
       "  </tbody>\n",
       "</table>\n",
       "</div>"
      ],
      "text/plain": [
       "   User_ID                                        Description  \\\n",
       "0  id80132  Looking for a motel in close proximity to TV t...   \n",
       "1  id80133  Walking distance to Madison Square Garden and ...   \n",
       "2  id80134  Visited Seattle on business. Spent - nights in...   \n",
       "3  id80135  This hotel location is excellent and the rooms...   \n",
       "4  id80136  This hotel is awesome I love the service Antho...   \n",
       "\n",
       "       Browser_Used Device_Used  \n",
       "0           Firefox      Mobile  \n",
       "1  InternetExplorer     Desktop  \n",
       "2                IE      Tablet  \n",
       "3              Edge      Mobile  \n",
       "4           Mozilla      Mobile  "
      ]
     },
     "execution_count": 2,
     "metadata": {},
     "output_type": "execute_result"
    }
   ],
   "source": [
    "path_test = \"test.csv\"\n",
    "test = pd.read_csv(path_test)\n",
    "test.head()"
   ]
  },
  {
   "cell_type": "code",
   "execution_count": 3,
   "metadata": {
    "collapsed": true
   },
   "outputs": [],
   "source": [
    "def word_net(word):\n",
    "    \"\"\"\n",
    "    Aims at lemmatizing a word using synonyms of a word. \n",
    "    Longest prefix match of a word with some constraints is the lemmatized word.\n",
    "    Synonyms of a word are extracted using synsets()\n",
    "    \"\"\"\n",
    "    if(len(word)<=5):\n",
    "        return word\n",
    "    synonyms = []\n",
    "    #antonyms = []\n",
    "    for syn in wordnet.synsets(word):\n",
    "        for l in syn.lemmas():\n",
    "            synonyms.append(l.name())\n",
    "            #if l.antonyms():\n",
    "                #antonyms.append(l.antonyms()[0].name())\n",
    "    best_match = \"\"\n",
    "    match = 0\n",
    "    if len(synonyms)==0:\n",
    "        return word\n",
    "    left_count = len(word)\n",
    "    for syn in synonyms:\n",
    "        if syn==word:\n",
    "            continue\n",
    "        temp = 0\n",
    "        flag=1\n",
    "        index = 0\n",
    "        for i in range(min(len(syn),len(word))):\n",
    "            index = i\n",
    "            if(syn[i]!=word[i]):\n",
    "                if((len(syn)-temp)<left_count):\n",
    "                    left_count = len(syn)-temp\n",
    "                    best_match = syn \n",
    "                    match = i\n",
    "                flag=0\n",
    "                break\n",
    "            temp+=1\n",
    "        if(flag==1):\n",
    "            if((len(syn)-temp)<left_count):\n",
    "                left_count = len(syn)-temp\n",
    "                best_match = syn\n",
    "                match = index+1\n",
    "    if(len(word)-match>4 or len(best_match)>=len(word) or len(best_match)<=1):\n",
    "        return word\n",
    "    return best_match\n",
    "\n",
    "def write_pkl(file,data):\n",
    "    \"\"\"\n",
    "    Writes data from a pickle file. ie. \"data.pkl\"\n",
    "    \"\"\"\n",
    "    writing = open(file, 'wb')\n",
    "    pickle.dump(data, writing)\n",
    "    return\n",
    "\n",
    "def load_pkl(file):\n",
    "    \"\"\"\n",
    "    Loads data from a pickle file. ie. \"data.pkl\"\n",
    "    \"\"\"\n",
    "    pkl_file = open(file, 'rb')\n",
    "    data = pickle.load(pkl_file)\n",
    "    return data\n",
    "\n",
    "corpus_size = 38932\n",
    "\n",
    "def tf(word,doc_id):\n",
    "    \"\"\"\n",
    "    Calculates and returns the term frequency log(tf+1)\n",
    "    \"\"\"\n",
    "    try:\n",
    "        return math.log(multimap_list[word][doc_id][1]+1)\n",
    "    except:\n",
    "        return 0\n",
    "\n",
    "def idf(word):\n",
    "    \"\"\"\n",
    "    Calculaltes and returns the inverse document frequency log(N/df)\n",
    "    \"\"\"\n",
    "    try:\n",
    "        return math.log(float(corpus_size)/len(multimap_list[word]))\n",
    "    except:\n",
    "        return 0"
   ]
  },
  {
   "cell_type": "code",
   "execution_count": 4,
   "metadata": {
    "collapsed": false
   },
   "outputs": [
    {
     "name": "stdout",
     "output_type": "stream",
     "text": [
      "Walking distance to Madison Square Garden and the Penn Subway Station. Also very close to lots of retail stores and restaurants. The hotel offers free internet, a gym and a hot breakfast. Our room was on the top floor facing --th St. The room was clean and the staff very helpful and accommodating. The downside was that the A-C was making a noise and the faucet in the bathroom was loose - things that can be easily fixed. We walked from the hotel to Madison Square Gardens, to Times Square and on to Broadway. Everything considered, I will definitely recommend this hotel to my friends. (29404,)\n"
     ]
    }
   ],
   "source": [
    "desc = np.array(test[\"Description\"])\n",
    "print(desc[1],desc.shape)"
   ]
  },
  {
   "cell_type": "code",
   "execution_count": 5,
   "metadata": {
    "collapsed": false
   },
   "outputs": [
    {
     "name": "stdout",
     "output_type": "stream",
     "text": [
      "NOTE: This was carried out and stored in test_data.pkl\n"
     ]
    }
   ],
   "source": [
    "\"\"\"\n",
    "clean_test = []\n",
    "with open(\"stp.txt\") as file:\n",
    "    stops = file.read().splitlines()\n",
    "stops = set(stops)\n",
    "for review in desc:\n",
    "    review = re.sub(r'[^A-Za-z0-9\\s]',r'',review)\n",
    "    review = re.sub(r'\\n',r' ',review)\n",
    "    review = \" \".join([w.lower() for w in review.split()])\n",
    "    #review = \" \".join([word_net(w) for w in review.split()])\n",
    "    review = \" \".join([word_net(w) for w in review.split() if w not in stops])\n",
    "    clean_test.append(review)\n",
    "\n",
    "write_pkl(\"test_data.pkl\",clean_test)\n",
    "\"\"\"\n",
    "print(\"NOTE: This was carried out and stored in test_data.pkl\")"
   ]
  },
  {
   "cell_type": "code",
   "execution_count": 6,
   "metadata": {
    "collapsed": false
   },
   "outputs": [
    {
     "name": "stdout",
     "output_type": "stream",
     "text": [
      "walk distance to madison square garden penn subway station also very close to lots of retail store restaurant hotel offer free internet gym hot breakfast room was on top floor face th st room was clean staff very helpful accommodate downside was ac was make noise faucet bath was loose thing can easy fixed walk hotel to madison square garden to times square on to broadway everything consider will definitely recommend hotel to friend\n",
      "29404\n"
     ]
    }
   ],
   "source": [
    "#Loading the cleaned testing data\n",
    "clean_test = load_pkl(\"test_data.pkl\")\n",
    "print(clean_test[1])\n",
    "print(len(clean_test))"
   ]
  },
  {
   "cell_type": "code",
   "execution_count": 7,
   "metadata": {
    "collapsed": false
   },
   "outputs": [
    {
     "name": "stdout",
     "output_type": "stream",
     "text": [
      "{30051: [[16], 1], 14951: [[152], 1], 35370: [[84], 1], 7409: [[176], 1], 30892: [[488], 1], 32305: [[45], 1], 24405: [[18], 1], 33847: [[51], 1], 13273: [[34], 1], 26939: [[24], 1], 27761: [[95], 1], 20287: [[65], 1]}\n"
     ]
    }
   ],
   "source": [
    "#Loading the indexed multimap.pkl file\n",
    "multimap_list = load_pkl(\"multimap.pkl\")\n",
    "print(multimap_list[\"drone\"])"
   ]
  },
  {
   "cell_type": "code",
   "execution_count": 8,
   "metadata": {
    "collapsed": false
   },
   "outputs": [
    {
     "name": "stdout",
     "output_type": "stream",
     "text": [
      "[0 0 0 1 0 1 0 1 1 0]\n"
     ]
    }
   ],
   "source": [
    "train_result = load_pkl(\"train_result.pkl\")\n",
    "print(train_result[:10])"
   ]
  },
  {
   "cell_type": "code",
   "execution_count": 9,
   "metadata": {
    "collapsed": false
   },
   "outputs": [
    {
     "data": {
      "text/plain": [
       "0    Looking for a motel in close proximity to TV taping of a Dr. Phil show, we chose the Dunes on Sunset Blvd in West Hollywood. Although the property displayed the AAA emblem, it certainly left a lot to be desired. There were chips & scrapes on the bottom of the door frame in the bathroom and the lotion containers were half full--apparently not replaced by housekeeping. We needed an early wakeup call, but couldn't use the clock radio alarm as there wasn't a radio in the room. There was no TV channel listing on the remote, or on the TV menu making viewing a chore.The TV remote had to be returned when checking-out. This place served its purpose, but not a place to revisit.\n",
       "Name: Description, dtype: object"
      ]
     },
     "execution_count": 9,
     "metadata": {},
     "output_type": "execute_result"
    }
   ],
   "source": [
    "pd.set_option('display.max_colwidth', -1)\n",
    "test[\"Description\"].head(1)"
   ]
  },
  {
   "cell_type": "code",
   "execution_count": 10,
   "metadata": {
    "collapsed": true
   },
   "outputs": [],
   "source": [
    "tfidf = load_pkl(\"tfidf.pkl\")"
   ]
  },
  {
   "cell_type": "code",
   "execution_count": 11,
   "metadata": {
    "collapsed": false
   },
   "outputs": [],
   "source": [
    "def tf_idf(query):\n",
    "    \"\"\"\n",
    "    Calculates tf_idf of a query and returns a list. ie. find[]\n",
    "    \"\"\"\n",
    "    #positive = 0.0\n",
    "    #negative = 0.0\n",
    "    find = []\n",
    "    for doc_id in range(corpus_size):\n",
    "        value = 0.0\n",
    "        for word in query.split(\" \"):\n",
    "            try:\n",
    "                value+= tfidf[word][doc_id+1][1]\n",
    "            except:\n",
    "                value+=0\n",
    "        \"\"\"if(train_result[doc_id]==1):\n",
    "            positive+=value\n",
    "        else:\n",
    "            negative+=value\"\"\"\n",
    "        if(value>0):\n",
    "            heapq.heappush(find, (100000-value,doc_id+1,train_result[doc_id]))\n",
    "    #total = (positive+negative)\n",
    "    #return {positive/total,negative/total}\n",
    "    return find"
   ]
  },
  {
   "cell_type": "code",
   "execution_count": 12,
   "metadata": {
    "collapsed": false
   },
   "outputs": [
    {
     "name": "stdout",
     "output_type": "stream",
     "text": [
      "0.39750839989473113 0.6024916001052688\n",
      "0.4876278604312459 0.5123721395687542\n",
      "0.5113455006728093 0.48865449932719074\n",
      "0.537526624207721 0.462473375792279\n"
     ]
    }
   ],
   "source": [
    "result = []\n",
    "for review in clean_test[13:17]:\n",
    "    answer = tf_idf(review)\n",
    "    positive = 0.0\n",
    "    negative = 0.0\n",
    "    for ans in answer[:100]:\n",
    "        if(ans[2]==1):\n",
    "            positive+=(100000-ans[0])\n",
    "        else:\n",
    "            negative+=(100000-ans[0])\n",
    "    total = (positive+negative)\n",
    "    print(positive/total,negative/total)\n",
    "    if(positive<negative):\n",
    "        result.append(0)\n",
    "    else:\n",
    "        result.append(1)"
   ]
  },
  {
   "cell_type": "code",
   "execution_count": 13,
   "metadata": {
    "collapsed": false
   },
   "outputs": [
    {
     "data": {
      "text/plain": [
       "['there reason many of previous review say place is awful is stay was one on only rooms available downtown due to convening within first few second of walk lobby notice dirty waslike hadnt vacuum weeks room was just bad overlook ally piled garbage crawl giant rats count least ten shabby depress roomnonsmoking reek of stale cigaret smoke water never got warm enough to take decent shower can go on but get pic',\n",
       " 'great location close to times square many thing tried to find deal nearby night room was small used to nyc but was unclean smell moldy offer breakfast was minimal but of course better than nothing staff was not very friendly had social time than business time',\n",
       " 'book hampton one night based on tripadvisor review usual were not disappoint have stay numerous hotel have come to love hampton inn consistent cleanliness value comfort one is near new lots of space comfy beds location isnt bad just off freeway maybe mile to lodo probably not walk distance of traffic freeway but very convenient to downtown six flags stadium want to stay heart of pick hotel close to th but value cleanliness are important dont mind short drive youll happy',\n",
       " 'stay girlfriend was attend conference pick hotel based on hotel is locate well not far lots of shop on union square across street main transit station one thing have to say is try to book on high floor on geary street on lower floor was quite noisy most night wear earplug might suffice serve was quick to room']"
      ]
     },
     "execution_count": 13,
     "metadata": {},
     "output_type": "execute_result"
    }
   ],
   "source": [
    "clean_test[13:17]"
   ]
  },
  {
   "cell_type": "code",
   "execution_count": 14,
   "metadata": {
    "collapsed": false
   },
   "outputs": [],
   "source": [
    "#dataframe = pd.DataFrame({'User_ID':test[\"User_ID\"].tolist()[:4],'Is_Response':result})\n",
    "#dataframe.to_csv('output1.csv')"
   ]
  },
  {
   "cell_type": "code",
   "execution_count": 15,
   "metadata": {
    "collapsed": false
   },
   "outputs": [
    {
     "data": {
      "text/plain": [
       "{7409: [[176], 5.603862864030332],\n",
       " 13273: [[34], 5.603862864030332],\n",
       " 14951: [[152], 5.603862864030332],\n",
       " 20287: [[65], 5.603862864030332],\n",
       " 24405: [[18], 5.603862864030332],\n",
       " 26939: [[24], 5.603862864030332],\n",
       " 27761: [[95], 5.603862864030332],\n",
       " 30051: [[16], 5.603862864030332],\n",
       " 30892: [[488], 5.603862864030332],\n",
       " 32305: [[45], 5.603862864030332],\n",
       " 33847: [[51], 5.603862864030332],\n",
       " 35370: [[84], 5.603862864030332]}"
      ]
     },
     "execution_count": 15,
     "metadata": {},
     "output_type": "execute_result"
    }
   ],
   "source": [
    "tfidf[\"drone\"]"
   ]
  },
  {
   "cell_type": "code",
   "execution_count": 26,
   "metadata": {
    "collapsed": false
   },
   "outputs": [
    {
     "name": "stdout",
     "output_type": "stream",
     "text": [
      "   Unnamed: 0 Is_Response  User_ID\n",
      "0  0           not_happy   id80132\n",
      "1  1           happy       id80133\n",
      "2  2           not_happy   id80134\n",
      "3  3           not_happy   id80135\n",
      "4  4           happy       id80136 (19800, 3)\n"
     ]
    }
   ],
   "source": [
    "path_out1 = 'output1.csv'\n",
    "out1 = pd.read_csv(path_out1)\n",
    "print(out1.head(),out1.shape)"
   ]
  },
  {
   "cell_type": "code",
   "execution_count": 27,
   "metadata": {
    "collapsed": false
   },
   "outputs": [
    {
     "name": "stdout",
     "output_type": "stream",
     "text": [
      "   Unnamed: 0 Is_Response  User_ID\n",
      "0  0           not_happy   id99907\n",
      "1  1           not_happy   id99908\n",
      "2  2           happy       id99909\n",
      "3  3           not_happy   id99910\n",
      "4  4           happy       id99911 (9629, 3)\n"
     ]
    }
   ],
   "source": [
    "path_out2 = 'output2.csv'\n",
    "out2 = pd.read_csv(path_out2)\n",
    "print(out2.head(),out2.shape)"
   ]
  },
  {
   "cell_type": "code",
   "execution_count": 36,
   "metadata": {
    "collapsed": false
   },
   "outputs": [
    {
     "name": "stdout",
     "output_type": "stream",
     "text": [
      "(29404, 3) 29429\n"
     ]
    }
   ],
   "source": [
    "frames = [out1[:], out2[25:]]\n",
    "result = pd.concat(frames)\n",
    "print(result.shape,19800+9629)"
   ]
  },
  {
   "cell_type": "code",
   "execution_count": 37,
   "metadata": {
    "collapsed": false
   },
   "outputs": [
    {
     "data": {
      "text/html": [
       "<div>\n",
       "<table border=\"1\" class=\"dataframe\">\n",
       "  <thead>\n",
       "    <tr style=\"text-align: right;\">\n",
       "      <th></th>\n",
       "      <th>Unnamed: 0</th>\n",
       "      <th>Is_Response</th>\n",
       "      <th>User_ID</th>\n",
       "    </tr>\n",
       "  </thead>\n",
       "  <tbody>\n",
       "    <tr>\n",
       "      <th>0</th>\n",
       "      <td>0</td>\n",
       "      <td>not_happy</td>\n",
       "      <td>id80132</td>\n",
       "    </tr>\n",
       "    <tr>\n",
       "      <th>1</th>\n",
       "      <td>1</td>\n",
       "      <td>happy</td>\n",
       "      <td>id80133</td>\n",
       "    </tr>\n",
       "    <tr>\n",
       "      <th>2</th>\n",
       "      <td>2</td>\n",
       "      <td>not_happy</td>\n",
       "      <td>id80134</td>\n",
       "    </tr>\n",
       "    <tr>\n",
       "      <th>3</th>\n",
       "      <td>3</td>\n",
       "      <td>not_happy</td>\n",
       "      <td>id80135</td>\n",
       "    </tr>\n",
       "    <tr>\n",
       "      <th>4</th>\n",
       "      <td>4</td>\n",
       "      <td>happy</td>\n",
       "      <td>id80136</td>\n",
       "    </tr>\n",
       "    <tr>\n",
       "      <th>5</th>\n",
       "      <td>5</td>\n",
       "      <td>happy</td>\n",
       "      <td>id80137</td>\n",
       "    </tr>\n",
       "    <tr>\n",
       "      <th>6</th>\n",
       "      <td>6</td>\n",
       "      <td>not_happy</td>\n",
       "      <td>id80138</td>\n",
       "    </tr>\n",
       "    <tr>\n",
       "      <th>7</th>\n",
       "      <td>7</td>\n",
       "      <td>not_happy</td>\n",
       "      <td>id80139</td>\n",
       "    </tr>\n",
       "    <tr>\n",
       "      <th>8</th>\n",
       "      <td>8</td>\n",
       "      <td>not_happy</td>\n",
       "      <td>id80140</td>\n",
       "    </tr>\n",
       "    <tr>\n",
       "      <th>9</th>\n",
       "      <td>9</td>\n",
       "      <td>happy</td>\n",
       "      <td>id80141</td>\n",
       "    </tr>\n",
       "  </tbody>\n",
       "</table>\n",
       "</div>"
      ],
      "text/plain": [
       "   Unnamed: 0 Is_Response  User_ID\n",
       "0  0           not_happy   id80132\n",
       "1  1           happy       id80133\n",
       "2  2           not_happy   id80134\n",
       "3  3           not_happy   id80135\n",
       "4  4           happy       id80136\n",
       "5  5           happy       id80137\n",
       "6  6           not_happy   id80138\n",
       "7  7           not_happy   id80139\n",
       "8  8           not_happy   id80140\n",
       "9  9           happy       id80141"
      ]
     },
     "execution_count": 37,
     "metadata": {},
     "output_type": "execute_result"
    }
   ],
   "source": [
    "result.head(10)"
   ]
  }
 ],
 "metadata": {
  "anaconda-cloud": {},
  "kernelspec": {
   "display_name": "Python [default]",
   "language": "python",
   "name": "python3"
  },
  "language_info": {
   "codemirror_mode": {
    "name": "ipython",
    "version": 3
   },
   "file_extension": ".py",
   "mimetype": "text/x-python",
   "name": "python",
   "nbconvert_exporter": "python",
   "pygments_lexer": "ipython3",
   "version": "3.5.2"
  }
 },
 "nbformat": 4,
 "nbformat_minor": 2
}
